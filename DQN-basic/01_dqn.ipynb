{
  "cells": [
    {
      "cell_type": "markdown",
      "metadata": {
        "id": "89Q99qmoqziN"
      },
      "source": [
        "# 01. DQN\n",
        "\n",
        "[V. Mnih et al., \"Human-level control through deep reinforcement learning.\" Nature, 518\n",
        "(7540):529–533, 2015.](https://storage.googleapis.com/deepmind-media/dqn/DQNNaturePaper.pdf)\n",
        "\n",
        "Reinforcement learning is known to be unstable or even to diverge when a nonlinear function approximator such as a neural network is used to represent the action-value (also known as $Q$) function. This instability has several causes: the correlations present in the sequence of observations, the fact that small updates to $Q$ may significantly change the policy and therefore change the data distribution, and the correlations between the action-values ($Q$) and the target values $r + \\gamma \\max_{a'} Q(s', a')$.\n",
        "\n",
        "The authors suggest two key ideas to address these instabilities with a novel variant of Q-learning: Replay buffer and Fixed Q-target.\n",
        "\n",
        "#### Uniformly random sampling from Experience Replay Memory\n",
        "\n",
        "Reinforcement learning agent stores the experiences consecutively in the buffer, so adjacent ($s, a, r, s'$) transitions stored are highly likely to have correlation. To remove this, the agent samples experiences uniformly at random from the pool of stored samples $\\big( (s, a, r, s') \\sim U(D) \\big)$. See sample_batch method of ReplayBuffer class for more details.\n",
        "\n",
        "#### Fixed Q-target\n",
        "\n",
        "DQN uses an iterative update that adjusts the action-values ($Q$) towards target values that are only periodically updated, thereby reducing correlations with the target; if not, it is easily divergy because the target continuously moves. The Q-learning update at iteration $i$ uses the following loss function:\n",
        "\n",
        "$$\n",
        "L_i(\\theta_i) = \\mathbb{E}_{(s,a,r,s') \\sim U(D)} \\big[ \\big( r + \\gamma \\max_{a'} Q(s',a';\\theta_i^-) - Q(s, a; \\theta_i) \\big)^2 \\big]\n",
        "$$\n",
        "\n",
        "in which $\\gamma$ is the discount factor determining the agent’s horizon, $\\theta_i$ are the parameters of the Q-network at iteration $i$ and $\\theta_i^-$ are the network parameters used to compute the target at iteration $i$. The target network parameters $\\theta_i^-$ are only updated with the Q-network parameters ($\\theta_i$) every C steps and are held fixed between individual updates. ($C = 200$ in CartPole-v0)\n",
        "\n",
        "#### For more stability: Gradient clipping\n",
        "\n",
        "The authors also found it helpful to clip the error term from the update $r + \\gamma \\max_{a'} Q(s', a'; \\theta_i^-) - Q(s,a,;\\theta_i)$ to be between -1 and 1. Because the absolute value loss function $|x|$ has a derivative of -1 for all negative values of x and a derivative of 1 for all positive values of x, clipping the squared error to be between -1 and 1 corresponds to using an absolute value loss function for errors outside of the (-1,1) interval. This form of error clipping further improved the stability of the algorithm."
      ]
    },
    {
      "cell_type": "code",
      "execution_count": 1,
      "metadata": {
        "id": "fRS6sGD-qziO",
        "outputId": "7a7845bc-22ae-429a-baf3-12124c7c2ce4"
      },
      "outputs": [],
      "source": [
        "import os\n",
        "from typing import Dict, List, Tuple\n",
        "\n",
        "\n",
        "import gymnasium as gym\n",
        "import matplotlib.pyplot as plt\n",
        "import numpy as np\n",
        "import torch\n",
        "import torch.nn as nn\n",
        "import torch.nn.functional as F\n",
        "import torch.optim as optim\n",
        "from IPython.display import clear_output"
      ]
    },
    {
      "cell_type": "markdown",
      "metadata": {
        "id": "iJVPDnlQqziO"
      },
      "source": [
        "## Replay buffer\n",
        "\n",
        "Typically, people implement replay buffers with one of the following three data structures:\n",
        "\n",
        "  - collections.deque\n",
        "  - list\n",
        "  - numpy.ndarray\n",
        "  \n",
        "**deque** is very easy to handle once you initialize its maximum length (e.g. deque(maxlen=buffer_size)). However, the indexing operation of deque gets terribly slow as it grows up because it is [internally doubly linked list](https://wiki.python.org/moin/TimeComplexity#collections.deque). On the other hands, **list** is an array, so it is relatively faster than deque when you sample batches at every step. Its amortized cost of  *Get item* is [O(1)](https://wiki.python.org/moin/TimeComplexity#list).\n",
        "\n",
        "Last but not least, let's see **numpy.ndarray**. numpy.ndarray is even faster than list due to the fact that it is [a homogeneous array of fixed-size items](https://docs.scipy.org/doc/numpy/reference/generated/numpy.ndarray.html#numpy.ndarray), so you can get the benefits of [locality of reference](https://en.wikipedia.org/wiki/Locality_of_reference). Whereas list is an array of pointers to objects, even when all of them are of the same type.\n",
        "\n",
        "Here, we are going to implement a replay buffer using numpy.ndarray.\n",
        "\n",
        "\n",
        "Reference: [OpenAI spinning-up](https://github.com/openai/spinningup/blob/master/spinup/algos/sac/sac.py#L10)"
      ]
    },
    {
      "cell_type": "code",
      "execution_count": 2,
      "metadata": {
        "id": "dRZPvx4VqziP"
      },
      "outputs": [],
      "source": [
        "class ReplayBuffer:\n",
        "    \"\"\"A simple numpy replay buffer.\"\"\"\n",
        "\n",
        "    def __init__(self, obs_dim: int, size: int, batch_size: int = 32):\n",
        "        self.obs_buf = np.zeros([size, obs_dim], dtype=np.float32)\n",
        "        self.next_obs_buf = np.zeros([size, obs_dim], dtype=np.float32)\n",
        "        self.acts_buf = np.zeros([size], dtype=np.float32)\n",
        "        self.rews_buf = np.zeros([size], dtype=np.float32)\n",
        "        self.done_buf = np.zeros(size, dtype=np.float32)\n",
        "        self.max_size, self.batch_size = size, batch_size\n",
        "        self.ptr, self.size, = 0, 0\n",
        "\n",
        "    def store(\n",
        "        self,\n",
        "        obs: np.ndarray,\n",
        "        act: np.ndarray,\n",
        "        rew: float,\n",
        "        next_obs: np.ndarray,\n",
        "        done: bool,\n",
        "    ):\n",
        "        self.obs_buf[self.ptr] = obs\n",
        "        self.next_obs_buf[self.ptr] = next_obs\n",
        "        self.acts_buf[self.ptr] = act\n",
        "        self.rews_buf[self.ptr] = rew\n",
        "        self.done_buf[self.ptr] = done\n",
        "        self.ptr = (self.ptr + 1) % self.max_size\n",
        "        self.size = min(self.size + 1, self.max_size)\n",
        "\n",
        "    def sample_batch(self) -> Dict[str, np.ndarray]:\n",
        "        idxs = np.random.choice(self.size, size=self.batch_size, replace=False)\n",
        "        return dict(obs=self.obs_buf[idxs],\n",
        "                    next_obs=self.next_obs_buf[idxs],\n",
        "                    acts=self.acts_buf[idxs],\n",
        "                    rews=self.rews_buf[idxs],\n",
        "                    done=self.done_buf[idxs])\n",
        "\n",
        "    def __len__(self) -> int:\n",
        "        return self.size"
      ]
    },
    {
      "cell_type": "markdown",
      "metadata": {
        "id": "NPgdhZx-qziP"
      },
      "source": [
        "## Network\n",
        "\n",
        "We are going to use a simple network architecture with three fully connected layers and two non-linearity functions (ReLU)."
      ]
    },
    {
      "cell_type": "code",
      "execution_count": 3,
      "metadata": {
        "id": "R6WkuTvEqziP"
      },
      "outputs": [],
      "source": [
        "class Network(nn.Module):\n",
        "    def __init__(self, in_dim: int, out_dim: int):\n",
        "        \"\"\"Initialization.\"\"\"\n",
        "        super(Network, self).__init__()\n",
        "\n",
        "        self.layers = nn.Sequential(\n",
        "            nn.Linear(in_dim, 128),\n",
        "            nn.ReLU(),\n",
        "            nn.Linear(128, 128),\n",
        "            nn.ReLU(),\n",
        "            nn.Linear(128, out_dim)\n",
        "        )\n",
        "\n",
        "    def forward(self, x: torch.Tensor) -> torch.Tensor:\n",
        "        \"\"\"Forward method implementation.\"\"\"\n",
        "        return self.layers(x)"
      ]
    },
    {
      "cell_type": "markdown",
      "metadata": {
        "id": "oUS_pg3lqziQ"
      },
      "source": [
        "## DQN Agent\n",
        "\n",
        "Here is a summary of DQNAgent class.\n",
        "\n",
        "| Method           | Note                                                 |\n",
        "| ---              | ---                                                  |\n",
        "|select_action     | select an action from the input state.               |\n",
        "|step              | take an action and return the response of the env.   |\n",
        "|compute_dqn_loss  | return dqn loss.                                     |\n",
        "|update_model      | update the model by gradient descent.                |\n",
        "|target_hard_update| hard update from the local model to the target model.|\n",
        "|train             | train the agent during num_frames.                   |\n",
        "|test              | test the agent (1 episode).                          |\n",
        "|plot              | plot the training progresses.                        |\n"
      ]
    },
    {
      "cell_type": "code",
      "execution_count": 4,
      "metadata": {
        "id": "5AnmQyOOqziQ"
      },
      "outputs": [],
      "source": [
        "class DQNAgent:\n",
        "    \"\"\"DQN Agent interacting with environment.\n",
        "\n",
        "    Attribute:\n",
        "        env (gym.Env): openAI Gym environment\n",
        "        memory (ReplayBuffer): replay memory to store transitions\n",
        "        batch_size (int): batch size for sampling\n",
        "        epsilon (float): parameter for epsilon greedy policy\n",
        "        epsilon_decay (float): step size to decrease epsilon\n",
        "        max_epsilon (float): max value of epsilon\n",
        "        min_epsilon (float): min value of epsilon\n",
        "        target_update (int): period for target model's hard update\n",
        "        gamma (float): discount factor\n",
        "        dqn (Network): model to train and select actions\n",
        "        dqn_target (Network): target model to update\n",
        "        optimizer (torch.optim): optimizer for training dqn\n",
        "        transition (list): transition information including\n",
        "                           state, action, reward, next_state, done\n",
        "    \"\"\"\n",
        "\n",
        "    def __init__(\n",
        "        self,\n",
        "        env: gym.Env,\n",
        "        memory_size: int,\n",
        "        batch_size: int,\n",
        "        target_update: int,\n",
        "        epsilon_decay: float,\n",
        "        seed: int,\n",
        "        max_epsilon: float = 1.0,\n",
        "        min_epsilon: float = 0.1,\n",
        "        gamma: float = 0.99,\n",
        "    ):\n",
        "        \"\"\"Initialization.\n",
        "\n",
        "        Args:\n",
        "            env (gym.Env): openAI Gym environment\n",
        "            memory_size (int): length of memory\n",
        "            batch_size (int): batch size for sampling\n",
        "            target_update (int): period for target model's hard update\n",
        "            epsilon_decay (float): step size to decrease epsilon\n",
        "            lr (float): learning rate\n",
        "            max_epsilon (float): max value of epsilon\n",
        "            min_epsilon (float): min value of epsilon\n",
        "            gamma (float): discount factor\n",
        "        \"\"\"\n",
        "        obs_dim = env.observation_space.shape[0]\n",
        "        action_dim = env.action_space.n\n",
        "\n",
        "        self.env = env\n",
        "        self.memory = ReplayBuffer(obs_dim, memory_size, batch_size)\n",
        "        self.batch_size = batch_size\n",
        "        self.epsilon = max_epsilon\n",
        "        self.epsilon_decay = epsilon_decay\n",
        "        self.seed = seed\n",
        "        self.max_epsilon = max_epsilon\n",
        "        self.min_epsilon = min_epsilon\n",
        "        self.target_update = target_update\n",
        "        self.gamma = gamma\n",
        "\n",
        "        # device: cpu / gpu\n",
        "        self.device = torch.device(\n",
        "            \"cuda\" if torch.cuda.is_available() else \"cpu\"\n",
        "        )\n",
        "        print(self.device)\n",
        "\n",
        "        # networks: dqn, dqn_target\n",
        "        self.dqn = Network(obs_dim, action_dim).to(self.device)\n",
        "        self.dqn_target = Network(obs_dim, action_dim).to(self.device)\n",
        "        self.dqn_target.load_state_dict(self.dqn.state_dict())\n",
        "        self.dqn_target.eval()\n",
        "\n",
        "        # optimizer\n",
        "        self.optimizer = optim.Adam(self.dqn.parameters())\n",
        "\n",
        "        # transition to store in memory\n",
        "        self.transition = list()\n",
        "\n",
        "        # mode: train / test\n",
        "        self.is_test = False\n",
        "\n",
        "    def select_action(self, state: np.ndarray) -> np.ndarray:\n",
        "        \"\"\"Select an action from the input state.\"\"\"\n",
        "        # epsilon greedy policy\n",
        "        if self.epsilon > np.random.random():\n",
        "            selected_action = self.env.action_space.sample()\n",
        "        else:\n",
        "            selected_action = self.dqn(\n",
        "                torch.FloatTensor(state).to(self.device)\n",
        "            ).argmax()\n",
        "            selected_action = selected_action.detach().cpu().numpy()\n",
        "\n",
        "        if not self.is_test:\n",
        "            self.transition = [state, selected_action]\n",
        "\n",
        "        return selected_action\n",
        "\n",
        "    def step(self, action: np.ndarray) -> Tuple[np.ndarray, np.float64, bool]:\n",
        "        \"\"\"Take an action and return the response of the env.\"\"\"\n",
        "        next_state, reward, terminated, truncated, _ = self.env.step(action)\n",
        "        done = terminated or truncated\n",
        "\n",
        "        if not self.is_test:\n",
        "            self.transition += [reward, next_state, done]\n",
        "            self.memory.store(*self.transition)\n",
        "\n",
        "        return next_state, reward, done\n",
        "\n",
        "    def update_model(self) -> torch.Tensor:\n",
        "        \"\"\"Update the model by gradient descent.\"\"\"\n",
        "        samples = self.memory.sample_batch()\n",
        "\n",
        "        loss = self._compute_dqn_loss(samples)\n",
        "\n",
        "        self.optimizer.zero_grad()\n",
        "        loss.backward()\n",
        "        self.optimizer.step()\n",
        "\n",
        "        return loss.item()\n",
        "\n",
        "    def train(self, num_frames: int, plotting_interval: int = 200):\n",
        "        \"\"\"Train the agent.\"\"\"\n",
        "        self.is_test = False\n",
        "\n",
        "        state, _ = self.env.reset(seed=self.seed)\n",
        "        update_cnt = 0\n",
        "        epsilons = []\n",
        "        losses = []\n",
        "        scores = []\n",
        "        score = 0\n",
        "\n",
        "        for frame_idx in range(1, num_frames + 1):\n",
        "            action = self.select_action(state)\n",
        "            next_state, reward, done = self.step(action)\n",
        "\n",
        "            state = next_state\n",
        "            score += reward\n",
        "\n",
        "            # if episode ends\n",
        "            if done:\n",
        "                state, _ = self.env.reset(seed=self.seed)\n",
        "                scores.append(score)\n",
        "                score = 0\n",
        "\n",
        "            # if training is ready\n",
        "            if len(self.memory) >= self.batch_size:\n",
        "                loss = self.update_model()\n",
        "                losses.append(loss)\n",
        "                update_cnt += 1\n",
        "\n",
        "                # linearly decrease epsilon\n",
        "                self.epsilon = max(\n",
        "                    self.min_epsilon, self.epsilon - (\n",
        "                        self.max_epsilon - self.min_epsilon\n",
        "                    ) * self.epsilon_decay\n",
        "                )\n",
        "                epsilons.append(self.epsilon)\n",
        "\n",
        "                # if hard update is needed\n",
        "                if update_cnt % self.target_update == 0:\n",
        "                    self._target_hard_update()\n",
        "\n",
        "            # plotting\n",
        "            if frame_idx % plotting_interval == 0:\n",
        "                self._plot(frame_idx, scores, losses, epsilons)\n",
        "\n",
        "        self.env.close()\n",
        "\n",
        "    def test(self, video_folder: str) -> None:\n",
        "        \"\"\"Test the agent.\"\"\"\n",
        "        self.is_test = True\n",
        "\n",
        "        # for recording a video\n",
        "        naive_env = self.env\n",
        "        self.env = gym.wrappers.RecordVideo(self.env, video_folder=video_folder)\n",
        "\n",
        "        state, _ = self.env.reset(seed=self.seed)\n",
        "        done = False\n",
        "        score = 0\n",
        "\n",
        "        while not done:\n",
        "            action = self.select_action(state)\n",
        "            next_state, reward, done = self.step(action)\n",
        "\n",
        "            state = next_state\n",
        "            score += reward\n",
        "\n",
        "        print(\"score: \", score)\n",
        "        self.env.close()\n",
        "\n",
        "        # reset\n",
        "        self.env = naive_env\n",
        "\n",
        "    def _compute_dqn_loss(self, samples: Dict[str, np.ndarray]) -> torch.Tensor:\n",
        "        \"\"\"Return dqn loss.\"\"\"\n",
        "        device = self.device  # for shortening the following lines\n",
        "        state = torch.FloatTensor(samples[\"obs\"]).to(device)\n",
        "        next_state = torch.FloatTensor(samples[\"next_obs\"]).to(device)\n",
        "        action = torch.LongTensor(samples[\"acts\"].reshape(-1, 1)).to(device)\n",
        "        reward = torch.FloatTensor(samples[\"rews\"].reshape(-1, 1)).to(device)\n",
        "        done = torch.FloatTensor(samples[\"done\"].reshape(-1, 1)).to(device)\n",
        "\n",
        "        # G_t   = r + gamma * v(s_{t+1})  if state != Terminal\n",
        "        #       = r                       otherwise\n",
        "        curr_q_value = self.dqn(state).gather(1, action)\n",
        "        next_q_value = self.dqn_target(\n",
        "            next_state\n",
        "        ).max(dim=1, keepdim=True)[0].detach()\n",
        "        mask = 1 - done\n",
        "        target = (reward + self.gamma * next_q_value * mask).to(self.device)\n",
        "\n",
        "        # calculate dqn loss\n",
        "        loss = F.smooth_l1_loss(curr_q_value, target)\n",
        "\n",
        "        return loss\n",
        "\n",
        "    def _target_hard_update(self):\n",
        "        \"\"\"Hard update: target <- local.\"\"\"\n",
        "        self.dqn_target.load_state_dict(self.dqn.state_dict())\n",
        "\n",
        "    def _plot(\n",
        "        self,\n",
        "        frame_idx: int,\n",
        "        scores: List[float],\n",
        "        losses: List[float],\n",
        "        epsilons: List[float],\n",
        "    ):\n",
        "        \"\"\"Plot the training progresses.\"\"\"\n",
        "        clear_output(True)\n",
        "        plt.figure(figsize=(20, 5))\n",
        "        plt.subplot(131)\n",
        "        plt.title('frame %s. score: %s' % (frame_idx, np.mean(scores[-10:])))\n",
        "        plt.plot(scores)\n",
        "        plt.subplot(132)\n",
        "        plt.title('loss')\n",
        "        plt.plot(losses)\n",
        "        plt.subplot(133)\n",
        "        plt.title('epsilons')\n",
        "        plt.plot(epsilons)\n",
        "        plt.show()"
      ]
    },
    {
      "cell_type": "markdown",
      "metadata": {
        "id": "ucVVsIzSqziR"
      },
      "source": [
        "## Environment\n",
        "\n",
        "You can see the [code](https://github.com/Farama-Foundation/Gymnasium/blob/main/gymnasium/envs/classic_control/cartpole.py) and [configurations](https://github.com/Farama-Foundation/Gymnasium/blob/main/gymnasium/envs/classic_control/cartpole.py#L91) of CartPole-v1 from Farama Gymnasium's repository."
      ]
    },
    {
      "cell_type": "code",
      "execution_count": 5,
      "metadata": {
        "id": "lqspXXYOqziR"
      },
      "outputs": [],
      "source": [
        "# environment\n",
        "env = gym.make(\"CartPole-v1\", max_episode_steps=200, render_mode=\"rgb_array\")"
      ]
    },
    {
      "cell_type": "markdown",
      "metadata": {
        "id": "AXW5wP4jqziR"
      },
      "source": [
        "## Set random seed"
      ]
    },
    {
      "cell_type": "code",
      "execution_count": 6,
      "metadata": {
        "id": "_4UcYr-UqziR"
      },
      "outputs": [],
      "source": [
        "seed = 777\n",
        "\n",
        "def seed_torch(seed):\n",
        "    torch.manual_seed(seed)\n",
        "    if torch.backends.cudnn.enabled:\n",
        "        torch.cuda.manual_seed(seed)\n",
        "        torch.backends.cudnn.benchmark = False\n",
        "        torch.backends.cudnn.deterministic = True\n",
        "\n",
        "np.random.seed(seed)\n",
        "seed_torch(seed)"
      ]
    },
    {
      "cell_type": "markdown",
      "metadata": {
        "id": "cxPmtDWPqziR"
      },
      "source": [
        "## Initialize"
      ]
    },
    {
      "cell_type": "code",
      "execution_count": 7,
      "metadata": {
        "id": "8rxjcZ7wqziR",
        "outputId": "27ee0298-adec-4e98-c8bb-6e464a4774a4"
      },
      "outputs": [
        {
          "name": "stdout",
          "output_type": "stream",
          "text": [
            "cpu\n"
          ]
        }
      ],
      "source": [
        "# parameters\n",
        "num_frames = 10000\n",
        "memory_size = 1000\n",
        "batch_size = 32\n",
        "target_update = 100\n",
        "epsilon_decay = 1 / 2000\n",
        "\n",
        "agent = DQNAgent(env, memory_size, batch_size, target_update, epsilon_decay, seed)"
      ]
    },
    {
      "cell_type": "markdown",
      "metadata": {
        "id": "ngkfKypQqziR"
      },
      "source": [
        "## Train"
      ]
    },
    {
      "cell_type": "code",
      "execution_count": 8,
      "metadata": {
        "id": "QGiKyGv0qziR",
        "outputId": "049264b7-6bd6-44a6-8720-b0702c8c3e02"
      },
      "outputs": [
        {
          "data": {
            "image/png": "[encoded data removed]",
            "text/plain": [
              "<Figure size 2000x500 with 3 Axes>"
            ]
          },
          "metadata": {},
          "output_type": "display_data"
        }
      ],
      "source": [
        "agent.train(num_frames)"
      ]
    },
    {
      "cell_type": "code",
      "execution_count": 9,
      "metadata": {},
      "outputs": [],
      "source": [
        "#!pip install moviepy\n"
      ]
    },
    {
      "cell_type": "markdown",
      "metadata": {
        "id": "Ou6PwAsOqziS"
      },
      "source": [
        "## Test\n",
        "\n",
        "Run the trained agent (1 episode)."
      ]
    },
    {
      "cell_type": "code",
      "execution_count": 10,
      "metadata": {
        "id": "wuyP6XkgqziS",
        "outputId": "12417766-091d-4098-8e36-98d6e833a641"
      },
      "outputs": [
        {
          "name": "stdout",
          "output_type": "stream",
          "text": [
            "score:  115.0\n"
          ]
        }
      ],
      "source": [
        "video_folder=\"videos/dqn\"\n",
        "agent.test(video_folder=video_folder)"
      ]
    },
    {
      "cell_type": "markdown",
      "metadata": {
        "id": "ThfJp86tqziS"
      },
      "source": [
        "## Render"
      ]
    },
    {
      "cell_type": "code",
      "execution_count": 11,
      "metadata": {
        "id": "XbbZl_ZzqziS",
        "outputId": "71ae74c7-1a38-4ef7-a620-dc0b8ce6e71c"
      },
      "outputs": [
        {
          "data": {
            "text/html": [
              "\n",
              "        <video width=\"320\" height=\"240\" alt=\"test\" controls>\n",
              "        <source src=\"data:video/mp4;base64,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\" type=\"video/mp4\"/>\n",
              "        </video>\n",
              "        "
            ],
            "text/plain": [
              "<IPython.core.display.HTML object>"
            ]
          },
          "metadata": {},
          "output_type": "display_data"
        },
        {
          "name": "stdout",
          "output_type": "stream",
          "text": [
            "Played: videos/dqn/rl-video-episode-0.mp4\n"
          ]
        }
      ],
      "source": [
        "import base64\n",
        "import glob\n",
        "import io\n",
        "import os\n",
        "\n",
        "from IPython.display import HTML, display\n",
        "\n",
        "\n",
        "def ipython_show_video(path: str) -> None:\n",
        "    \"\"\"Show a video at `path` within IPython Notebook.\"\"\"\n",
        "    if not os.path.isfile(path):\n",
        "        raise NameError(\"Cannot access: {}\".format(path))\n",
        "\n",
        "    video = io.open(path, \"r+b\").read()\n",
        "    encoded = base64.b64encode(video)\n",
        "\n",
        "    display(HTML(\n",
        "        data=\"\"\"\n",
        "        <video width=\"320\" height=\"240\" alt=\"test\" controls>\n",
        "        <source src=\"data:video/mp4;base64,{0}\" type=\"video/mp4\"/>\n",
        "        </video>\n",
        "        \"\"\".format(encoded.decode(\"ascii\"))\n",
        "    ))\n",
        "\n",
        "\n",
        "def show_latest_video(video_folder: str) -> str:\n",
        "    \"\"\"Show the most recently recorded video from video folder.\"\"\"\n",
        "    list_of_files = glob.glob(os.path.join(video_folder, \"*.mp4\"))\n",
        "    latest_file = max(list_of_files, key=os.path.getctime)\n",
        "    ipython_show_video(latest_file)\n",
        "    return latest_file\n",
        "\n",
        "\n",
        "latest_file = show_latest_video(video_folder=video_folder)\n",
        "print(\"Played:\", latest_file)"
      ]
    }
  ],
  "metadata": {
    "colab": {
      "provenance": []
    },
    "kernelspec": {
      "display_name": "base",
      "language": "python",
      "name": "python3"
    },
    "language_info": {
      "codemirror_mode": {
        "name": "ipython",
        "version": 3
      },
      "file_extension": ".py",
      "mimetype": "text/x-python",
      "name": "python",
      "nbconvert_exporter": "python",
      "pygments_lexer": "ipython3",
      "version": "3.11.7"
    }
  },
  "nbformat": 4,
  "nbformat_minor": 0
}
