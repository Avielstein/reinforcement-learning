{
  "cells": [
    {
      "cell_type": "markdown",
      "metadata": {
        "id": "89Q99qmoqziN"
      },
      "source": [
        "# 01. DQN\n",
        "\n",
        "[V. Mnih et al., \"Human-level control through deep reinforcement learning.\" Nature, 518\n",
        "(7540):529–533, 2015.](https://storage.googleapis.com/deepmind-media/dqn/DQNNaturePaper.pdf)\n",
        "\n",
        "Reinforcement learning is known to be unstable or even to diverge when a nonlinear function approximator such as a neural network is used to represent the action-value (also known as $Q$) function. This instability has several causes: the correlations present in the sequence of observations, the fact that small updates to $Q$ may significantly change the policy and therefore change the data distribution, and the correlations between the action-values ($Q$) and the target values $r + \\gamma \\max_{a'} Q(s', a')$.\n",
        "\n",
        "The authors suggest two key ideas to address these instabilities with a novel variant of Q-learning: Replay buffer and Fixed Q-target.\n",
        "\n",
        "#### Uniformly random sampling from Experience Replay Memory\n",
        "\n",
        "Reinforcement learning agent stores the experiences consecutively in the buffer, so adjacent ($s, a, r, s'$) transitions stored are highly likely to have correlation. To remove this, the agent samples experiences uniformly at random from the pool of stored samples $\\big( (s, a, r, s') \\sim U(D) \\big)$. See sample_batch method of ReplayBuffer class for more details.\n",
        "\n",
        "#### Fixed Q-target\n",
        "\n",
        "DQN uses an iterative update that adjusts the action-values ($Q$) towards target values that are only periodically updated, thereby reducing correlations with the target; if not, it is easily divergy because the target continuously moves. The Q-learning update at iteration $i$ uses the following loss function:\n",
        "\n",
        "$$\n",
        "L_i(\\theta_i) = \\mathbb{E}_{(s,a,r,s') \\sim U(D)} \\big[ \\big( r + \\gamma \\max_{a'} Q(s',a';\\theta_i^-) - Q(s, a; \\theta_i) \\big)^2 \\big]\n",
        "$$\n",
        "\n",
        "in which $\\gamma$ is the discount factor determining the agent’s horizon, $\\theta_i$ are the parameters of the Q-network at iteration $i$ and $\\theta_i^-$ are the network parameters used to compute the target at iteration $i$. The target network parameters $\\theta_i^-$ are only updated with the Q-network parameters ($\\theta_i$) every C steps and are held fixed between individual updates. ($C = 200$ in CartPole-v0)\n",
        "\n",
        "#### For more stability: Gradient clipping\n",
        "\n",
        "The authors also found it helpful to clip the error term from the update $r + \\gamma \\max_{a'} Q(s', a'; \\theta_i^-) - Q(s,a,;\\theta_i)$ to be between -1 and 1. Because the absolute value loss function $|x|$ has a derivative of -1 for all negative values of x and a derivative of 1 for all positive values of x, clipping the squared error to be between -1 and 1 corresponds to using an absolute value loss function for errors outside of the (-1,1) interval. This form of error clipping further improved the stability of the algorithm."
      ]
    },
    {
      "cell_type": "code",
      "execution_count": 1,
      "metadata": {
        "id": "fRS6sGD-qziO",
        "outputId": "7a7845bc-22ae-429a-baf3-12124c7c2ce4"
      },
      "outputs": [],
      "source": [
        "import os\n",
        "from typing import Dict, List, Tuple\n",
        "\n",
        "\n",
        "import gymnasium as gym\n",
        "import matplotlib.pyplot as plt\n",
        "import numpy as np\n",
        "import torch\n",
        "import torch.nn as nn\n",
        "import torch.nn.functional as F\n",
        "import torch.optim as optim\n",
        "from IPython.display import clear_output"
      ]
    },
    {
      "cell_type": "markdown",
      "metadata": {
        "id": "iJVPDnlQqziO"
      },
      "source": [
        "## Replay buffer\n",
        "\n",
        "Typically, people implement replay buffers with one of the following three data structures:\n",
        "\n",
        "  - collections.deque\n",
        "  - list\n",
        "  - numpy.ndarray\n",
        "  \n",
        "**deque** is very easy to handle once you initialize its maximum length (e.g. deque(maxlen=buffer_size)). However, the indexing operation of deque gets terribly slow as it grows up because it is [internally doubly linked list](https://wiki.python.org/moin/TimeComplexity#collections.deque). On the other hands, **list** is an array, so it is relatively faster than deque when you sample batches at every step. Its amortized cost of  *Get item* is [O(1)](https://wiki.python.org/moin/TimeComplexity#list).\n",
        "\n",
        "Last but not least, let's see **numpy.ndarray**. numpy.ndarray is even faster than list due to the fact that it is [a homogeneous array of fixed-size items](https://docs.scipy.org/doc/numpy/reference/generated/numpy.ndarray.html#numpy.ndarray), so you can get the benefits of [locality of reference](https://en.wikipedia.org/wiki/Locality_of_reference). Whereas list is an array of pointers to objects, even when all of them are of the same type.\n",
        "\n",
        "Here, we are going to implement a replay buffer using numpy.ndarray.\n",
        "\n",
        "\n",
        "Reference: [OpenAI spinning-up](https://github.com/openai/spinningup/blob/master/spinup/algos/sac/sac.py#L10)"
      ]
    },
    {
      "cell_type": "code",
      "execution_count": 2,
      "metadata": {
        "id": "dRZPvx4VqziP"
      },
      "outputs": [],
      "source": [
        "class ReplayBuffer:\n",
        "    \"\"\"A simple numpy replay buffer.\"\"\"\n",
        "\n",
        "    def __init__(self, obs_dim: int, size: int, batch_size: int = 32):\n",
        "        self.obs_buf = np.zeros([size, obs_dim], dtype=np.float32)\n",
        "        self.next_obs_buf = np.zeros([size, obs_dim], dtype=np.float32)\n",
        "        self.acts_buf = np.zeros([size], dtype=np.float32)\n",
        "        self.rews_buf = np.zeros([size], dtype=np.float32)\n",
        "        self.done_buf = np.zeros(size, dtype=np.float32)\n",
        "        self.max_size, self.batch_size = size, batch_size\n",
        "        self.ptr, self.size, = 0, 0\n",
        "\n",
        "    def store(\n",
        "        self,\n",
        "        obs: np.ndarray,\n",
        "        act: np.ndarray,\n",
        "        rew: float,\n",
        "        next_obs: np.ndarray,\n",
        "        done: bool,\n",
        "    ):\n",
        "        self.obs_buf[self.ptr] = obs\n",
        "        self.next_obs_buf[self.ptr] = next_obs\n",
        "        self.acts_buf[self.ptr] = act\n",
        "        self.rews_buf[self.ptr] = rew\n",
        "        self.done_buf[self.ptr] = done\n",
        "        self.ptr = (self.ptr + 1) % self.max_size\n",
        "        self.size = min(self.size + 1, self.max_size)\n",
        "\n",
        "    def sample_batch(self) -> Dict[str, np.ndarray]:\n",
        "        idxs = np.random.choice(self.size, size=self.batch_size, replace=False)\n",
        "        return dict(obs=self.obs_buf[idxs],\n",
        "                    next_obs=self.next_obs_buf[idxs],\n",
        "                    acts=self.acts_buf[idxs],\n",
        "                    rews=self.rews_buf[idxs],\n",
        "                    done=self.done_buf[idxs])\n",
        "\n",
        "    def __len__(self) -> int:\n",
        "        return self.size"
      ]
    },
    {
      "cell_type": "markdown",
      "metadata": {
        "id": "NPgdhZx-qziP"
      },
      "source": [
        "## Network\n",
        "\n",
        "We are going to use a simple network architecture with three fully connected layers and two non-linearity functions (ReLU)."
      ]
    },
    {
      "cell_type": "code",
      "execution_count": 3,
      "metadata": {
        "id": "R6WkuTvEqziP"
      },
      "outputs": [],
      "source": [
        "class Network(nn.Module):\n",
        "    def __init__(self, in_dim: int, out_dim: int):\n",
        "        \"\"\"Initialization.\"\"\"\n",
        "        super(Network, self).__init__()\n",
        "\n",
        "        self.layers = nn.Sequential(\n",
        "            nn.Linear(in_dim, 128),\n",
        "            nn.ReLU(),\n",
        "            nn.Linear(128, 128),\n",
        "            nn.ReLU(),\n",
        "            nn.Linear(128, out_dim)\n",
        "        )\n",
        "\n",
        "    def forward(self, x: torch.Tensor) -> torch.Tensor:\n",
        "        \"\"\"Forward method implementation.\"\"\"\n",
        "        return self.layers(x)"
      ]
    },
    {
      "cell_type": "markdown",
      "metadata": {
        "id": "oUS_pg3lqziQ"
      },
      "source": [
        "## DQN Agent\n",
        "\n",
        "Here is a summary of DQNAgent class.\n",
        "\n",
        "| Method           | Note                                                 |\n",
        "| ---              | ---                                                  |\n",
        "|select_action     | select an action from the input state.               |\n",
        "|step              | take an action and return the response of the env.   |\n",
        "|compute_dqn_loss  | return dqn loss.                                     |\n",
        "|update_model      | update the model by gradient descent.                |\n",
        "|target_hard_update| hard update from the local model to the target model.|\n",
        "|train             | train the agent during num_frames.                   |\n",
        "|test              | test the agent (1 episode).                          |\n",
        "|plot              | plot the training progresses.                        |\n"
      ]
    },
    {
      "cell_type": "code",
      "execution_count": 4,
      "metadata": {
        "id": "5AnmQyOOqziQ"
      },
      "outputs": [],
      "source": [
        "class DQNAgent:\n",
        "    \"\"\"DQN Agent interacting with environment.\n",
        "\n",
        "    Attribute:\n",
        "        env (gym.Env): openAI Gym environment\n",
        "        memory (ReplayBuffer): replay memory to store transitions\n",
        "        batch_size (int): batch size for sampling\n",
        "        epsilon (float): parameter for epsilon greedy policy\n",
        "        epsilon_decay (float): step size to decrease epsilon\n",
        "        max_epsilon (float): max value of epsilon\n",
        "        min_epsilon (float): min value of epsilon\n",
        "        target_update (int): period for target model's hard update\n",
        "        gamma (float): discount factor\n",
        "        dqn (Network): model to train and select actions\n",
        "        dqn_target (Network): target model to update\n",
        "        optimizer (torch.optim): optimizer for training dqn\n",
        "        transition (list): transition information including\n",
        "                           state, action, reward, next_state, done\n",
        "    \"\"\"\n",
        "\n",
        "    def __init__(\n",
        "        self,\n",
        "        env: gym.Env,\n",
        "        memory_size: int,\n",
        "        batch_size: int,\n",
        "        target_update: int,\n",
        "        epsilon_decay: float,\n",
        "        seed: int,\n",
        "        max_epsilon: float = 1.0,\n",
        "        min_epsilon: float = 0.1,\n",
        "        gamma: float = 0.99,\n",
        "    ):\n",
        "        \"\"\"Initialization.\n",
        "\n",
        "        Args:\n",
        "            env (gym.Env): openAI Gym environment\n",
        "            memory_size (int): length of memory\n",
        "            batch_size (int): batch size for sampling\n",
        "            target_update (int): period for target model's hard update\n",
        "            epsilon_decay (float): step size to decrease epsilon\n",
        "            lr (float): learning rate\n",
        "            max_epsilon (float): max value of epsilon\n",
        "            min_epsilon (float): min value of epsilon\n",
        "            gamma (float): discount factor\n",
        "        \"\"\"\n",
        "        obs_dim = env.observation_space.shape[0]\n",
        "        action_dim = env.action_space.n\n",
        "\n",
        "        self.env = env\n",
        "        self.memory = ReplayBuffer(obs_dim, memory_size, batch_size)\n",
        "        self.batch_size = batch_size\n",
        "        self.epsilon = max_epsilon\n",
        "        self.epsilon_decay = epsilon_decay\n",
        "        self.seed = seed\n",
        "        self.max_epsilon = max_epsilon\n",
        "        self.min_epsilon = min_epsilon\n",
        "        self.target_update = target_update\n",
        "        self.gamma = gamma\n",
        "\n",
        "        # device: cpu / gpu\n",
        "        self.device = torch.device(\n",
        "            \"cuda\" if torch.cuda.is_available() else \"cpu\"\n",
        "        )\n",
        "        print(self.device)\n",
        "\n",
        "        # networks: dqn, dqn_target\n",
        "        self.dqn = Network(obs_dim, action_dim).to(self.device)\n",
        "        self.dqn_target = Network(obs_dim, action_dim).to(self.device)\n",
        "        self.dqn_target.load_state_dict(self.dqn.state_dict())\n",
        "        self.dqn_target.eval()\n",
        "\n",
        "        # optimizer\n",
        "        self.optimizer = optim.Adam(self.dqn.parameters())\n",
        "\n",
        "        # transition to store in memory\n",
        "        self.transition = list()\n",
        "\n",
        "        # mode: train / test\n",
        "        self.is_test = False\n",
        "\n",
        "    def select_action(self, state: np.ndarray) -> np.ndarray:\n",
        "        \"\"\"Select an action from the input state.\"\"\"\n",
        "        # epsilon greedy policy\n",
        "        if self.epsilon > np.random.random():\n",
        "            selected_action = self.env.action_space.sample()\n",
        "        else:\n",
        "            selected_action = self.dqn(\n",
        "                torch.FloatTensor(state).to(self.device)\n",
        "            ).argmax()\n",
        "            selected_action = selected_action.detach().cpu().numpy()\n",
        "\n",
        "        if not self.is_test:\n",
        "            self.transition = [state, selected_action]\n",
        "\n",
        "        return selected_action\n",
        "\n",
        "    def step(self, action: np.ndarray) -> Tuple[np.ndarray, np.float64, bool]:\n",
        "        \"\"\"Take an action and return the response of the env.\"\"\"\n",
        "        next_state, reward, terminated, truncated, _ = self.env.step(action)\n",
        "        done = terminated or truncated\n",
        "\n",
        "        if not self.is_test:\n",
        "            self.transition += [reward, next_state, done]\n",
        "            self.memory.store(*self.transition)\n",
        "\n",
        "        return next_state, reward, done\n",
        "\n",
        "    def update_model(self) -> torch.Tensor:\n",
        "        \"\"\"Update the model by gradient descent.\"\"\"\n",
        "        samples = self.memory.sample_batch()\n",
        "\n",
        "        loss = self._compute_dqn_loss(samples)\n",
        "\n",
        "        self.optimizer.zero_grad()\n",
        "        loss.backward()\n",
        "        self.optimizer.step()\n",
        "\n",
        "        return loss.item()\n",
        "\n",
        "    def train(self, num_frames: int, plotting_interval: int = 200):\n",
        "        \"\"\"Train the agent.\"\"\"\n",
        "        self.is_test = False\n",
        "\n",
        "        state, _ = self.env.reset(seed=self.seed)\n",
        "        update_cnt = 0\n",
        "        epsilons = []\n",
        "        losses = []\n",
        "        scores = []\n",
        "        score = 0\n",
        "\n",
        "        for frame_idx in range(1, num_frames + 1):\n",
        "            action = self.select_action(state)\n",
        "            next_state, reward, done = self.step(action)\n",
        "\n",
        "            state = next_state\n",
        "            score += reward\n",
        "\n",
        "            # if episode ends\n",
        "            if done:\n",
        "                state, _ = self.env.reset(seed=self.seed)\n",
        "                scores.append(score)\n",
        "                score = 0\n",
        "\n",
        "            # if training is ready\n",
        "            if len(self.memory) >= self.batch_size:\n",
        "                loss = self.update_model()\n",
        "                losses.append(loss)\n",
        "                update_cnt += 1\n",
        "\n",
        "                # linearly decrease epsilon\n",
        "                self.epsilon = max(\n",
        "                    self.min_epsilon, self.epsilon - (\n",
        "                        self.max_epsilon - self.min_epsilon\n",
        "                    ) * self.epsilon_decay\n",
        "                )\n",
        "                epsilons.append(self.epsilon)\n",
        "\n",
        "                # if hard update is needed\n",
        "                if update_cnt % self.target_update == 0:\n",
        "                    self._target_hard_update()\n",
        "\n",
        "            # plotting\n",
        "            if frame_idx % plotting_interval == 0:\n",
        "                self._plot(frame_idx, scores, losses, epsilons)\n",
        "\n",
        "        self.env.close()\n",
        "\n",
        "    def test(self, video_folder: str) -> None:\n",
        "        \"\"\"Test the agent.\"\"\"\n",
        "        self.is_test = True\n",
        "\n",
        "        # for recording a video\n",
        "        naive_env = self.env\n",
        "        self.env = gym.wrappers.RecordVideo(self.env, video_folder=video_folder)\n",
        "\n",
        "        state, _ = self.env.reset(seed=self.seed)\n",
        "        done = False\n",
        "        score = 0\n",
        "\n",
        "        while not done:\n",
        "            action = self.select_action(state)\n",
        "            next_state, reward, done = self.step(action)\n",
        "\n",
        "            state = next_state\n",
        "            score += reward\n",
        "\n",
        "        print(\"score: \", score)\n",
        "        self.env.close()\n",
        "\n",
        "        # reset\n",
        "        self.env = naive_env\n",
        "\n",
        "    def _compute_dqn_loss(self, samples: Dict[str, np.ndarray]) -> torch.Tensor:\n",
        "        \"\"\"Return dqn loss.\"\"\"\n",
        "        device = self.device  # for shortening the following lines\n",
        "        state = torch.FloatTensor(samples[\"obs\"]).to(device)\n",
        "        next_state = torch.FloatTensor(samples[\"next_obs\"]).to(device)\n",
        "        action = torch.LongTensor(samples[\"acts\"].reshape(-1, 1)).to(device)\n",
        "        reward = torch.FloatTensor(samples[\"rews\"].reshape(-1, 1)).to(device)\n",
        "        done = torch.FloatTensor(samples[\"done\"].reshape(-1, 1)).to(device)\n",
        "\n",
        "        # G_t   = r + gamma * v(s_{t+1})  if state != Terminal\n",
        "        #       = r                       otherwise\n",
        "        curr_q_value = self.dqn(state).gather(1, action)\n",
        "        next_q_value = self.dqn_target(\n",
        "            next_state\n",
        "        ).max(dim=1, keepdim=True)[0].detach()\n",
        "        mask = 1 - done\n",
        "        target = (reward + self.gamma * next_q_value * mask).to(self.device)\n",
        "\n",
        "        # calculate dqn loss\n",
        "        loss = F.smooth_l1_loss(curr_q_value, target)\n",
        "\n",
        "        return loss\n",
        "\n",
        "    def _target_hard_update(self):\n",
        "        \"\"\"Hard update: target <- local.\"\"\"\n",
        "        self.dqn_target.load_state_dict(self.dqn.state_dict())\n",
        "\n",
        "    def _plot(\n",
        "        self,\n",
        "        frame_idx: int,\n",
        "        scores: List[float],\n",
        "        losses: List[float],\n",
        "        epsilons: List[float],\n",
        "    ):\n",
        "        \"\"\"Plot the training progresses.\"\"\"\n",
        "        clear_output(True)\n",
        "        plt.figure(figsize=(20, 5))\n",
        "        plt.subplot(131)\n",
        "        plt.title('frame %s. score: %s' % (frame_idx, np.mean(scores[-10:])))\n",
        "        plt.plot(scores)\n",
        "        plt.subplot(132)\n",
        "        plt.title('loss')\n",
        "        plt.plot(losses)\n",
        "        plt.subplot(133)\n",
        "        plt.title('epsilons')\n",
        "        plt.plot(epsilons)\n",
        "        plt.show()"
      ]
    },
    {
      "cell_type": "markdown",
      "metadata": {
        "id": "ucVVsIzSqziR"
      },
      "source": [
        "## Environment\n",
        "\n",
        "You can see the [code](https://github.com/Farama-Foundation/Gymnasium/blob/main/gymnasium/envs/classic_control/cartpole.py) and [configurations](https://github.com/Farama-Foundation/Gymnasium/blob/main/gymnasium/envs/classic_control/cartpole.py#L91) of CartPole-v1 from Farama Gymnasium's repository."
      ]
    },
    {
      "cell_type": "code",
      "execution_count": 5,
      "metadata": {
        "id": "lqspXXYOqziR"
      },
      "outputs": [],
      "source": [
        "# environment\n",
        "env = gym.make(\"CartPole-v1\", max_episode_steps=200, render_mode=\"rgb_array\")"
      ]
    },
    {
      "cell_type": "markdown",
      "metadata": {
        "id": "AXW5wP4jqziR"
      },
      "source": [
        "## Set random seed"
      ]
    },
    {
      "cell_type": "code",
      "execution_count": 6,
      "metadata": {
        "id": "_4UcYr-UqziR"
      },
      "outputs": [],
      "source": [
        "seed = 777\n",
        "\n",
        "def seed_torch(seed):\n",
        "    torch.manual_seed(seed)\n",
        "    if torch.backends.cudnn.enabled:\n",
        "        torch.cuda.manual_seed(seed)\n",
        "        torch.backends.cudnn.benchmark = False\n",
        "        torch.backends.cudnn.deterministic = True\n",
        "\n",
        "np.random.seed(seed)\n",
        "seed_torch(seed)"
      ]
    },
    {
      "cell_type": "markdown",
      "metadata": {
        "id": "cxPmtDWPqziR"
      },
      "source": [
        "## Initialize"
      ]
    },
    {
      "cell_type": "code",
      "execution_count": 7,
      "metadata": {
        "id": "8rxjcZ7wqziR",
        "outputId": "27ee0298-adec-4e98-c8bb-6e464a4774a4"
      },
      "outputs": [
        {
          "name": "stdout",
          "output_type": "stream",
          "text": [
            "cpu\n"
          ]
        }
      ],
      "source": [
        "# parameters\n",
        "num_frames = 10000\n",
        "memory_size = 1000\n",
        "batch_size = 32\n",
        "target_update = 100\n",
        "epsilon_decay = 1 / 2000\n",
        "\n",
        "agent = DQNAgent(env, memory_size, batch_size, target_update, epsilon_decay, seed)"
      ]
    },
    {
      "cell_type": "markdown",
      "metadata": {
        "id": "ngkfKypQqziR"
      },
      "source": [
        "## Train"
      ]
    },
    {
      "cell_type": "code",
      "execution_count": 8,
      "metadata": {
        "id": "QGiKyGv0qziR",
        "outputId": "049264b7-6bd6-44a6-8720-b0702c8c3e02"
      },
      "outputs": [
        {
          "data": {
            "image/png": "[encoded data removed]",
            "text/plain": [
              "<Figure size 2000x500 with 3 Axes>"
            ]
          },
          "metadata": {},
          "output_type": "display_data"
        }
      ],
      "source": [
        "agent.train(num_frames)"
      ]
    },
    {
      "cell_type": "code",
      "execution_count": 10,
      "metadata": {},
      "outputs": [
        {
          "name": "stdout",
          "output_type": "stream",
          "text": [
            "Collecting moviepy\n",
            "  Downloading moviepy-2.2.1-py3-none-any.whl.metadata (6.9 kB)\n",
            "Requirement already satisfied: decorator<6.0,>=4.0.2 in /Users/avielstein/.local/lib/python3.11/site-packages (from moviepy) (5.1.1)\n",
            "Requirement already satisfied: imageio<3.0,>=2.5 in /opt/anaconda3/lib/python3.11/site-packages (from moviepy) (2.33.1)\n",
            "Collecting imageio_ffmpeg>=0.2.0 (from moviepy)\n",
            "  Downloading imageio_ffmpeg-0.6.0-py3-none-macosx_10_9_intel.macosx_10_9_x86_64.whl.metadata (1.5 kB)\n",
            "Requirement already satisfied: numpy>=1.25.0 in /opt/anaconda3/lib/python3.11/site-packages (from moviepy) (1.26.4)\n",
            "Collecting proglog<=1.0.0 (from moviepy)\n",
            "  Downloading proglog-0.1.12-py3-none-any.whl.metadata (794 bytes)\n",
            "Requirement already satisfied: python-dotenv>=0.10 in /opt/anaconda3/lib/python3.11/site-packages (from moviepy) (0.21.0)\n",
            "Requirement already satisfied: pillow<12.0,>=9.2.0 in /opt/anaconda3/lib/python3.11/site-packages (from moviepy) (10.2.0)\n",
            "Requirement already satisfied: tqdm in /opt/anaconda3/lib/python3.11/site-packages (from proglog<=1.0.0->moviepy) (4.65.0)\n",
            "Downloading moviepy-2.2.1-py3-none-any.whl (129 kB)\n",
            "Downloading proglog-0.1.12-py3-none-any.whl (6.3 kB)\n",
            "Downloading imageio_ffmpeg-0.6.0-py3-none-macosx_10_9_intel.macosx_10_9_x86_64.whl (24.9 MB)\n",
            "\u001b[2K   \u001b[90m━━━━━━━━━━━━━━━━━━━━━━━━━━━━━━━━━━━━━━━━\u001b[0m \u001b[32m24.9/24.9 MB\u001b[0m \u001b[31m53.7 MB/s\u001b[0m eta \u001b[36m0:00:00\u001b[0ma \u001b[36m0:00:01\u001b[0m\n",
            "\u001b[?25hInstalling collected packages: proglog, imageio_ffmpeg, moviepy\n",
            "\u001b[2K   \u001b[90m━━━━━━━━━━━━━━━━━━━━━━━━━━━━━━━━━━━━━━━━\u001b[0m \u001b[32m3/3\u001b[0m [moviepy]m1/3\u001b[0m [imageio_ffmpeg]\n",
            "\u001b[1A\u001b[2KSuccessfully installed imageio_ffmpeg-0.6.0 moviepy-2.2.1 proglog-0.1.12\n"
          ]
        }
      ],
      "source": [
        "!pip install moviepy\n"
      ]
    },
    {
      "cell_type": "markdown",
      "metadata": {
        "id": "Ou6PwAsOqziS"
      },
      "source": [
        "## Test\n",
        "\n",
        "Run the trained agent (1 episode)."
      ]
    },
    {
      "cell_type": "code",
      "execution_count": 11,
      "metadata": {
        "id": "wuyP6XkgqziS",
        "outputId": "12417766-091d-4098-8e36-98d6e833a641"
      },
      "outputs": [
        {
          "name": "stdout",
          "output_type": "stream",
          "text": [
            "score:  99.0\n"
          ]
        }
      ],
      "source": [
        "video_folder=\"videos/dqn\"\n",
        "agent.test(video_folder=video_folder)"
      ]
    },
    {
      "cell_type": "markdown",
      "metadata": {
        "id": "ThfJp86tqziS"
      },
      "source": [
        "## Render"
      ]
    },
    {
      "cell_type": "code",
      "execution_count": 12,
      "metadata": {
        "id": "XbbZl_ZzqziS",
        "outputId": "71ae74c7-1a38-4ef7-a620-dc0b8ce6e71c"
      },
      "outputs": [
        {
          "data": {
            "text/html": [
              "\n",
              "        <video width=\"320\" height=\"240\" alt=\"test\" controls>\n",
              "        <source src=\"data:video/mp4;base64,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\" type=\"video/mp4\"/>\n",
              "        </video>\n",
              "        "
            ],
            "text/plain": [
              "<IPython.core.display.HTML object>"
            ]
          },
          "metadata": {},
          "output_type": "display_data"
        },
        {
          "name": "stdout",
          "output_type": "stream",
          "text": [
            "Played: videos/dqn/rl-video-episode-0.mp4\n"
          ]
        }
      ],
      "source": [
        "import base64\n",
        "import glob\n",
        "import io\n",
        "import os\n",
        "\n",
        "from IPython.display import HTML, display\n",
        "\n",
        "\n",
        "def ipython_show_video(path: str) -> None:\n",
        "    \"\"\"Show a video at `path` within IPython Notebook.\"\"\"\n",
        "    if not os.path.isfile(path):\n",
        "        raise NameError(\"Cannot access: {}\".format(path))\n",
        "\n",
        "    video = io.open(path, \"r+b\").read()\n",
        "    encoded = base64.b64encode(video)\n",
        "\n",
        "    display(HTML(\n",
        "        data=\"\"\"\n",
        "        <video width=\"320\" height=\"240\" alt=\"test\" controls>\n",
        "        <source src=\"data:video/mp4;base64,{0}\" type=\"video/mp4\"/>\n",
        "        </video>\n",
        "        \"\"\".format(encoded.decode(\"ascii\"))\n",
        "    ))\n",
        "\n",
        "\n",
        "def show_latest_video(video_folder: str) -> str:\n",
        "    \"\"\"Show the most recently recorded video from video folder.\"\"\"\n",
        "    list_of_files = glob.glob(os.path.join(video_folder, \"*.mp4\"))\n",
        "    latest_file = max(list_of_files, key=os.path.getctime)\n",
        "    ipython_show_video(latest_file)\n",
        "    return latest_file\n",
        "\n",
        "\n",
        "latest_file = show_latest_video(video_folder=video_folder)\n",
        "print(\"Played:\", latest_file)"
      ]
    }
  ],
  "metadata": {
    "colab": {
      "provenance": []
    },
    "kernelspec": {
      "display_name": "base",
      "language": "python",
      "name": "python3"
    },
    "language_info": {
      "codemirror_mode": {
        "name": "ipython",
        "version": 3
      },
      "file_extension": ".py",
      "mimetype": "text/x-python",
      "name": "python",
      "nbconvert_exporter": "python",
      "pygments_lexer": "ipython3",
      "version": "3.11.7"
    }
  },
  "nbformat": 4,
  "nbformat_minor": 0
}
